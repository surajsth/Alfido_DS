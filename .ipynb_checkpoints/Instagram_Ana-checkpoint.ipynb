{
 "cells": [
  {
   "cell_type": "code",
   "execution_count": 1,
   "id": "d4cbfe79-f980-473d-a959-d92838800ed3",
   "metadata": {},
   "outputs": [],
   "source": [
    "import pandas as pd\n",
    "import numpy as np\n",
    "import matplotlib.pyplot as plt\n",
    "from pathlib import Path"
   ]
  },
  {
   "cell_type": "code",
   "execution_count": 2,
   "id": "06e8815e-b274-4cc3-b82c-d6c9f139b423",
   "metadata": {},
   "outputs": [
    {
     "name": "stdout",
     "output_type": "stream",
     "text": [
      "dict_keys(['comments', 'follows', 'likes', 'photos', 'photo_tags', 'tags', 'users'])\n"
     ]
    }
   ],
   "source": [
    "# Read in all the csv files from the data folder and save them as a dictionary of DataFrames\n",
    "data_dir = Path('data/data')\n",
    "dfs = {}\n",
    "\n",
    "try:\n",
    "    for file_path in data_dir.glob('*.csv'):\n",
    "        if file_path.is_file():\n",
    "            # Get the filename without extension\n",
    "            file_name = file_path.stem  \n",
    "            df = pd.read_csv(file_path)\n",
    "            dfs[file_name] = df\n",
    "except Exception as e:\n",
    "    print(f\"Error occurred: {e}\")\n",
    "\n",
    "# Check the keys of the dictionary\n",
    "print(dfs.keys())\n",
    "\n",
    "# Save each DataFrame as individual dfs\n",
    "for key, df in dfs.items():\n",
    "    globals()[f'df_{key}'] = df"
   ]
  },
  {
   "cell_type": "code",
   "execution_count": 3,
   "id": "4335ee58-862d-471f-a79f-60fda7ab6575",
   "metadata": {},
   "outputs": [
    {
     "name": "stdout",
     "output_type": "stream",
     "text": [
      "Nulls in DataFrame comments:\n",
      "0\n",
      "Nulls in DataFrame follows:\n",
      "0\n",
      "Nulls in DataFrame likes:\n",
      "0\n",
      "Nulls in DataFrame photos:\n",
      "0\n",
      "Nulls in DataFrame photo_tags:\n",
      "0\n",
      "Nulls in DataFrame tags:\n",
      "0\n",
      "Nulls in DataFrame users:\n",
      "0\n"
     ]
    }
   ],
   "source": [
    "# Check for nulls in each df\n",
    "for key, df in dfs.items():\n",
    "    print(f\"Nulls in DataFrame {key}:\")\n",
    "    print(df.isnull().sum().sum())"
   ]
  },
  {
   "cell_type": "code",
   "execution_count": 23,
   "id": "519803a4-fa3c-4db7-b0e6-23aeec0015c0",
   "metadata": {},
   "outputs": [],
   "source": [
    "# Replace spaces with underscores in the column names and make all lowercase\n",
    "for key, df in dfs.items():\n",
    "    df.columns = df.columns.str.replace(' ', '_')\n",
    "    df.columns = df.columns.str.lower()"
   ]
  },
  {
   "cell_type": "code",
   "execution_count": 25,
   "id": "0c5c2219-e72e-475f-aed7-3921d79b21cb",
   "metadata": {},
   "outputs": [],
   "source": [
    "# Change yes/no columns to boolean values and data type\n",
    "for key, df in dfs.items():\n",
    "    for col in df.columns:\n",
    "        # If columns only contain yes or no, change to boolean\n",
    "        if df[col].isin(['yes', 'no']).all():\n",
    "            df[col] = df[col].map({'yes': True, 'no': False})"
   ]
  },
  {
   "cell_type": "code",
   "execution_count": 27,
   "id": "fc0d6bef-190b-45e2-8a7b-efe107d23196",
   "metadata": {},
   "outputs": [],
   "source": [
    "from datetime import datetime, timedelta\n",
    "# Convert the created columns to datetime data type\n",
    "date_time_cols = ['created_dat','created_date', 'created_time', 'created_timestamp']\n",
    "\n",
    "for key, df in dfs.items():\n",
    "    for col in date_time_cols:\n",
    "        if col in df.columns:\n",
    "            df[col] = pd.to_datetime(df[col], errors='coerce')  # Coerce will return NaT for invalid dates"
   ]
  },
  {
   "cell_type": "code",
   "execution_count": 28,
   "id": "65c0e621-8b64-4a56-9f29-3030d495734c",
   "metadata": {},
   "outputs": [
    {
     "data": {
      "text/html": [
       "<div>\n",
       "<style scoped>\n",
       "    .dataframe tbody tr th:only-of-type {\n",
       "        vertical-align: middle;\n",
       "    }\n",
       "\n",
       "    .dataframe tbody tr th {\n",
       "        vertical-align: top;\n",
       "    }\n",
       "\n",
       "    .dataframe thead th {\n",
       "        text-align: right;\n",
       "    }\n",
       "</style>\n",
       "<table border=\"1\" class=\"dataframe\">\n",
       "  <thead>\n",
       "    <tr style=\"text-align: right;\">\n",
       "      <th></th>\n",
       "      <th>user_id</th>\n",
       "      <th>name</th>\n",
       "      <th>created_time</th>\n",
       "      <th>private</th>\n",
       "      <th>post_count</th>\n",
       "      <th>verified_status</th>\n",
       "    </tr>\n",
       "  </thead>\n",
       "  <tbody>\n",
       "    <tr>\n",
       "      <th>0</th>\n",
       "      <td>1</td>\n",
       "      <td>Kenton_Kirlin</td>\n",
       "      <td>2017-02-16 18:22:00</td>\n",
       "      <td>True</td>\n",
       "      <td>11</td>\n",
       "      <td>False</td>\n",
       "    </tr>\n",
       "    <tr>\n",
       "      <th>1</th>\n",
       "      <td>2</td>\n",
       "      <td>Andre_Purdy85</td>\n",
       "      <td>2017-04-02 17:11:00</td>\n",
       "      <td>False</td>\n",
       "      <td>7</td>\n",
       "      <td>False</td>\n",
       "    </tr>\n",
       "    <tr>\n",
       "      <th>2</th>\n",
       "      <td>3</td>\n",
       "      <td>Harley_Lind18</td>\n",
       "      <td>2017-02-21 11:12:00</td>\n",
       "      <td>False</td>\n",
       "      <td>2</td>\n",
       "      <td>False</td>\n",
       "    </tr>\n",
       "    <tr>\n",
       "      <th>3</th>\n",
       "      <td>4</td>\n",
       "      <td>Arely_Bogan63</td>\n",
       "      <td>2016-08-13 01:28:00</td>\n",
       "      <td>True</td>\n",
       "      <td>1</td>\n",
       "      <td>False</td>\n",
       "    </tr>\n",
       "    <tr>\n",
       "      <th>4</th>\n",
       "      <td>5</td>\n",
       "      <td>Aniya_Hackett</td>\n",
       "      <td>2016-12-07 01:04:00</td>\n",
       "      <td>True</td>\n",
       "      <td>3</td>\n",
       "      <td>False</td>\n",
       "    </tr>\n",
       "  </tbody>\n",
       "</table>\n",
       "</div>"
      ],
      "text/plain": [
       "   user_id           name        created_time  private  post_count  \\\n",
       "0        1  Kenton_Kirlin 2017-02-16 18:22:00     True          11   \n",
       "1        2  Andre_Purdy85 2017-04-02 17:11:00    False           7   \n",
       "2        3  Harley_Lind18 2017-02-21 11:12:00    False           2   \n",
       "3        4  Arely_Bogan63 2016-08-13 01:28:00     True           1   \n",
       "4        5  Aniya_Hackett 2016-12-07 01:04:00     True           3   \n",
       "\n",
       "   verified_status  \n",
       "0            False  \n",
       "1            False  \n",
       "2            False  \n",
       "3            False  \n",
       "4            False  "
      ]
     },
     "execution_count": 28,
     "metadata": {},
     "output_type": "execute_result"
    }
   ],
   "source": [
    "df.head()"
   ]
  },
  {
   "cell_type": "code",
   "execution_count": 30,
   "id": "006da8e1-90bf-4a8d-bc3c-113de83214a3",
   "metadata": {},
   "outputs": [],
   "source": [
    "# Create new id columns for the likes and follows dataframes as they will be used as foreign keys in the interactions table\n",
    "df_likes['like_id'] = (df_likes.index + 1).astype(int)\n",
    "df_follows['follow_id'] = df_follows.index + 1"
   ]
  },
  {
   "cell_type": "code",
   "execution_count": 31,
   "id": "d7cf6866-69b0-4042-bdeb-46d1a944e7f4",
   "metadata": {},
   "outputs": [],
   "source": [
    "# Rename the columns in each dataframe to match the database schema\n",
    "df_photos.rename(columns={'created_dat': 'created_date','id':'photo_id'}, inplace=True)\n",
    "df_users.rename(columns={'id': 'user_id','private/public':'private'}, inplace=True)\n",
    "df_tags.rename(columns={'id': 'tag_id'}, inplace=True)\n",
    "df_comments.rename(columns={'user__id': 'user_id','id':'comment_id','created_timestamp':'created_time'}, inplace=True)\n",
    "df_likes.rename(columns={'user_': 'user_id', 'photo': 'photo_id'}, inplace=True)\n",
    "df_follows.rename(columns={'follower': 'follower_user_id', 'followee_': 'user_id'}, inplace=True)"
   ]
  },
  {
   "cell_type": "code",
   "execution_count": 32,
   "id": "0e995eaa-6a79-44f3-a6fa-0a276a6d6a12",
   "metadata": {},
   "outputs": [],
   "source": [
    "# Combine Likes, Comments, and Follows DataFrames into a single Interactions DataFrame\n",
    "df_interactions = pd.concat([df_likes, df_comments, df_follows], ignore_index=True)\n",
    "\n",
    "# Create interaction_id column\n",
    "df_interactions['interaction_id'] = df_interactions.index + 1\n",
    "\n",
    "# Add a new column to indicate the type of interaction ('like', 'comment', or 'follow')\n",
    "df_interactions['interaction_type'] = pd.Series(['like'] * len(df_likes) + ['comment'] * len(df_comments) + ['follow'] * len(df_follows))\n",
    "\n",
    "# Add an interaction date column (you can use 'created_time' column or any other appropriate date column)\n",
    "df_interactions['interaction_date'] = df_interactions['created_time']\n",
    "\n",
    "# List of columns to keep\n",
    "keep_cols = ['interaction_id', 'interaction_type', 'interaction_date', 'user_id', 'photo_id', 'comment_id', 'like_id','follow_id']\n",
    "\n",
    "# Remove columns that are not in the keep_cols list\n",
    "df_interactions = df_interactions[[col for col in df_interactions.columns if col in keep_cols]]\n",
    "\n",
    "# Make sure the id columns are integers even though they contain NaN values\n",
    "id_cols = ['user_id', 'photo_id', 'comment_id', 'like_id', 'follow_id']\n",
    "for col in id_cols:\n",
    "    df_interactions[col] = df_interactions[col].astype('Int64')"
   ]
  },
  {
   "cell_type": "code",
   "execution_count": 33,
   "id": "7612db47-3b82-4364-b8db-5a526e785668",
   "metadata": {},
   "outputs": [
    {
     "data": {
      "text/html": [
       "<div>\n",
       "<style scoped>\n",
       "    .dataframe tbody tr th:only-of-type {\n",
       "        vertical-align: middle;\n",
       "    }\n",
       "\n",
       "    .dataframe tbody tr th {\n",
       "        vertical-align: top;\n",
       "    }\n",
       "\n",
       "    .dataframe thead th {\n",
       "        text-align: right;\n",
       "    }\n",
       "</style>\n",
       "<table border=\"1\" class=\"dataframe\">\n",
       "  <thead>\n",
       "    <tr style=\"text-align: right;\">\n",
       "      <th></th>\n",
       "      <th>user_id</th>\n",
       "      <th>photo_id</th>\n",
       "      <th>like_id</th>\n",
       "      <th>comment_id</th>\n",
       "      <th>follow_id</th>\n",
       "      <th>interaction_id</th>\n",
       "      <th>interaction_type</th>\n",
       "      <th>interaction_date</th>\n",
       "    </tr>\n",
       "  </thead>\n",
       "  <tbody>\n",
       "    <tr>\n",
       "      <th>0</th>\n",
       "      <td>2</td>\n",
       "      <td>1</td>\n",
       "      <td>1</td>\n",
       "      <td>&lt;NA&gt;</td>\n",
       "      <td>&lt;NA&gt;</td>\n",
       "      <td>1</td>\n",
       "      <td>like</td>\n",
       "      <td>2023-04-13 08:04:00</td>\n",
       "    </tr>\n",
       "    <tr>\n",
       "      <th>1</th>\n",
       "      <td>2</td>\n",
       "      <td>4</td>\n",
       "      <td>2</td>\n",
       "      <td>&lt;NA&gt;</td>\n",
       "      <td>&lt;NA&gt;</td>\n",
       "      <td>2</td>\n",
       "      <td>like</td>\n",
       "      <td>2023-04-13 08:04:00</td>\n",
       "    </tr>\n",
       "    <tr>\n",
       "      <th>2</th>\n",
       "      <td>2</td>\n",
       "      <td>8</td>\n",
       "      <td>3</td>\n",
       "      <td>&lt;NA&gt;</td>\n",
       "      <td>&lt;NA&gt;</td>\n",
       "      <td>3</td>\n",
       "      <td>like</td>\n",
       "      <td>2023-04-13 08:04:00</td>\n",
       "    </tr>\n",
       "    <tr>\n",
       "      <th>3</th>\n",
       "      <td>2</td>\n",
       "      <td>9</td>\n",
       "      <td>4</td>\n",
       "      <td>&lt;NA&gt;</td>\n",
       "      <td>&lt;NA&gt;</td>\n",
       "      <td>4</td>\n",
       "      <td>like</td>\n",
       "      <td>2023-04-13 08:04:00</td>\n",
       "    </tr>\n",
       "    <tr>\n",
       "      <th>4</th>\n",
       "      <td>2</td>\n",
       "      <td>10</td>\n",
       "      <td>5</td>\n",
       "      <td>&lt;NA&gt;</td>\n",
       "      <td>&lt;NA&gt;</td>\n",
       "      <td>5</td>\n",
       "      <td>like</td>\n",
       "      <td>2023-04-13 08:04:00</td>\n",
       "    </tr>\n",
       "  </tbody>\n",
       "</table>\n",
       "</div>"
      ],
      "text/plain": [
       "   user_id  photo_id  like_id  comment_id  follow_id  interaction_id  \\\n",
       "0        2         1        1        <NA>       <NA>               1   \n",
       "1        2         4        2        <NA>       <NA>               2   \n",
       "2        2         8        3        <NA>       <NA>               3   \n",
       "3        2         9        4        <NA>       <NA>               4   \n",
       "4        2        10        5        <NA>       <NA>               5   \n",
       "\n",
       "  interaction_type    interaction_date  \n",
       "0             like 2023-04-13 08:04:00  \n",
       "1             like 2023-04-13 08:04:00  \n",
       "2             like 2023-04-13 08:04:00  \n",
       "3             like 2023-04-13 08:04:00  \n",
       "4             like 2023-04-13 08:04:00  "
      ]
     },
     "execution_count": 33,
     "metadata": {},
     "output_type": "execute_result"
    }
   ],
   "source": [
    "df_interactions.head()"
   ]
  },
  {
   "cell_type": "code",
   "execution_count": null,
   "id": "0515d510-13d9-4922-80eb-fc1ebee8b53d",
   "metadata": {},
   "outputs": [],
   "source": []
  },
  {
   "cell_type": "code",
   "execution_count": null,
   "id": "4361a7d0-7404-4cad-8a48-699ddd1079e6",
   "metadata": {},
   "outputs": [],
   "source": []
  },
  {
   "cell_type": "code",
   "execution_count": null,
   "id": "202f4b62-6acd-4de6-a4e1-36aae6bdfc08",
   "metadata": {},
   "outputs": [],
   "source": []
  }
 ],
 "metadata": {
  "kernelspec": {
   "display_name": "Python 3 (ipykernel)",
   "language": "python",
   "name": "python3"
  },
  "language_info": {
   "codemirror_mode": {
    "name": "ipython",
    "version": 3
   },
   "file_extension": ".py",
   "mimetype": "text/x-python",
   "name": "python",
   "nbconvert_exporter": "python",
   "pygments_lexer": "ipython3",
   "version": "3.12.4"
  }
 },
 "nbformat": 4,
 "nbformat_minor": 5
}
