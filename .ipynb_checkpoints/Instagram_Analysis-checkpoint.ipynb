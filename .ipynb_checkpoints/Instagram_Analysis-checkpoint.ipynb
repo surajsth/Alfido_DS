{
 "cells": [
  {
   "cell_type": "code",
   "execution_count": 1,
   "id": "659b3379-d605-4a1a-b96c-e19e94185291",
   "metadata": {},
   "outputs": [],
   "source": [
    "import pandas as pd\n",
    "import numpy as np\n",
    "import matplotlib.pyplot as plt"
   ]
  },
  {
   "cell_type": "code",
   "execution_count": 28,
   "id": "205bf326-118c-4b0d-b294-f2290526023a",
   "metadata": {},
   "outputs": [
    {
     "data": {
      "text/html": [
       "<div>\n",
       "<style scoped>\n",
       "    .dataframe tbody tr th:only-of-type {\n",
       "        vertical-align: middle;\n",
       "    }\n",
       "\n",
       "    .dataframe tbody tr th {\n",
       "        vertical-align: top;\n",
       "    }\n",
       "\n",
       "    .dataframe thead th {\n",
       "        text-align: right;\n",
       "    }\n",
       "</style>\n",
       "<table border=\"1\" class=\"dataframe\">\n",
       "  <thead>\n",
       "    <tr style=\"text-align: right;\">\n",
       "      <th></th>\n",
       "      <th>id</th>\n",
       "      <th>comment</th>\n",
       "      <th>User  id</th>\n",
       "      <th>Photo id</th>\n",
       "      <th>created Timestamp</th>\n",
       "      <th>posted date</th>\n",
       "      <th>emoji used</th>\n",
       "      <th>Hashtags used count</th>\n",
       "    </tr>\n",
       "  </thead>\n",
       "  <tbody>\n",
       "    <tr>\n",
       "      <th>0</th>\n",
       "      <td>1</td>\n",
       "      <td>unde at dolorem</td>\n",
       "      <td>2</td>\n",
       "      <td>1</td>\n",
       "      <td>13-04-2023 08:04</td>\n",
       "      <td>April 14</td>\n",
       "      <td>yes</td>\n",
       "      <td>1</td>\n",
       "    </tr>\n",
       "    <tr>\n",
       "      <th>1</th>\n",
       "      <td>2</td>\n",
       "      <td>quae ea ducimus</td>\n",
       "      <td>3</td>\n",
       "      <td>1</td>\n",
       "      <td>13-04-2023 08:04</td>\n",
       "      <td>April 14</td>\n",
       "      <td>no</td>\n",
       "      <td>2</td>\n",
       "    </tr>\n",
       "    <tr>\n",
       "      <th>2</th>\n",
       "      <td>3</td>\n",
       "      <td>alias a voluptatum</td>\n",
       "      <td>5</td>\n",
       "      <td>1</td>\n",
       "      <td>13-04-2023 08:04</td>\n",
       "      <td>April 14</td>\n",
       "      <td>no</td>\n",
       "      <td>4</td>\n",
       "    </tr>\n",
       "    <tr>\n",
       "      <th>3</th>\n",
       "      <td>4</td>\n",
       "      <td>facere suscipit sunt</td>\n",
       "      <td>14</td>\n",
       "      <td>1</td>\n",
       "      <td>13-04-2023 08:04</td>\n",
       "      <td>April 14</td>\n",
       "      <td>yes</td>\n",
       "      <td>2</td>\n",
       "    </tr>\n",
       "    <tr>\n",
       "      <th>4</th>\n",
       "      <td>5</td>\n",
       "      <td>totam eligendi quaerat</td>\n",
       "      <td>17</td>\n",
       "      <td>1</td>\n",
       "      <td>13-04-2023 08:04</td>\n",
       "      <td>April 14</td>\n",
       "      <td>yes</td>\n",
       "      <td>1</td>\n",
       "    </tr>\n",
       "  </tbody>\n",
       "</table>\n",
       "</div>"
      ],
      "text/plain": [
       "   id                 comment  User  id  Photo id created Timestamp  \\\n",
       "0   1         unde at dolorem         2         1  13-04-2023 08:04   \n",
       "1   2         quae ea ducimus         3         1  13-04-2023 08:04   \n",
       "2   3      alias a voluptatum         5         1  13-04-2023 08:04   \n",
       "3   4    facere suscipit sunt        14         1  13-04-2023 08:04   \n",
       "4   5  totam eligendi quaerat        17         1  13-04-2023 08:04   \n",
       "\n",
       "  posted date emoji used  Hashtags used count  \n",
       "0    April 14        yes                    1  \n",
       "1    April 14         no                    2  \n",
       "2    April 14         no                    4  \n",
       "3    April 14        yes                    2  \n",
       "4    April 14        yes                    1  "
      ]
     },
     "execution_count": 28,
     "metadata": {},
     "output_type": "execute_result"
    }
   ],
   "source": [
    "df_comments = pd.read_csv(\"data/data/comments.csv\")\n",
    "df_comments.head()"
   ]
  },
  {
   "cell_type": "code",
   "execution_count": 41,
   "id": "e1f87ae2-24e7-4f96-b220-a73bd09e17e3",
   "metadata": {},
   "outputs": [
    {
     "data": {
      "text/plain": [
       "id                     0\n",
       "comment                0\n",
       "User  id               0\n",
       "Photo id               0\n",
       "created Timestamp      0\n",
       "posted date            0\n",
       "emoji used             0\n",
       "Hashtags used count    0\n",
       "dtype: int64"
      ]
     },
     "execution_count": 41,
     "metadata": {},
     "output_type": "execute_result"
    }
   ],
   "source": [
    "df_comments.isnull().sum()"
   ]
  },
  {
   "cell_type": "code",
   "execution_count": 30,
   "id": "0edbe7b9-34d4-47ee-9818-c74364c3f686",
   "metadata": {},
   "outputs": [
    {
     "data": {
      "text/html": [
       "<div>\n",
       "<style scoped>\n",
       "    .dataframe tbody tr th:only-of-type {\n",
       "        vertical-align: middle;\n",
       "    }\n",
       "\n",
       "    .dataframe tbody tr th {\n",
       "        vertical-align: top;\n",
       "    }\n",
       "\n",
       "    .dataframe thead th {\n",
       "        text-align: right;\n",
       "    }\n",
       "</style>\n",
       "<table border=\"1\" class=\"dataframe\">\n",
       "  <thead>\n",
       "    <tr style=\"text-align: right;\">\n",
       "      <th></th>\n",
       "      <th>follower</th>\n",
       "      <th>followee</th>\n",
       "      <th>created time</th>\n",
       "      <th>is follower active</th>\n",
       "      <th>followee Acc status</th>\n",
       "    </tr>\n",
       "  </thead>\n",
       "  <tbody>\n",
       "    <tr>\n",
       "      <th>0</th>\n",
       "      <td>2</td>\n",
       "      <td>1</td>\n",
       "      <td>13-04-2023 08:04</td>\n",
       "      <td>1</td>\n",
       "      <td>Private</td>\n",
       "    </tr>\n",
       "    <tr>\n",
       "      <th>1</th>\n",
       "      <td>2</td>\n",
       "      <td>3</td>\n",
       "      <td>13-04-2023 08:04</td>\n",
       "      <td>0</td>\n",
       "      <td>private</td>\n",
       "    </tr>\n",
       "    <tr>\n",
       "      <th>2</th>\n",
       "      <td>2</td>\n",
       "      <td>4</td>\n",
       "      <td>13-04-2023 08:04</td>\n",
       "      <td>0</td>\n",
       "      <td>public</td>\n",
       "    </tr>\n",
       "    <tr>\n",
       "      <th>3</th>\n",
       "      <td>2</td>\n",
       "      <td>5</td>\n",
       "      <td>13-04-2023 08:04</td>\n",
       "      <td>0</td>\n",
       "      <td>private</td>\n",
       "    </tr>\n",
       "    <tr>\n",
       "      <th>4</th>\n",
       "      <td>2</td>\n",
       "      <td>6</td>\n",
       "      <td>13-04-2023 08:04</td>\n",
       "      <td>1</td>\n",
       "      <td>private</td>\n",
       "    </tr>\n",
       "  </tbody>\n",
       "</table>\n",
       "</div>"
      ],
      "text/plain": [
       "   follower  followee       created time  is follower active  \\\n",
       "0         2          1  13-04-2023 08:04                   1   \n",
       "1         2          3  13-04-2023 08:04                   0   \n",
       "2         2          4  13-04-2023 08:04                   0   \n",
       "3         2          5  13-04-2023 08:04                   0   \n",
       "4         2          6  13-04-2023 08:04                   1   \n",
       "\n",
       "  followee Acc status  \n",
       "0             Private  \n",
       "1             private  \n",
       "2              public  \n",
       "3             private  \n",
       "4             private  "
      ]
     },
     "execution_count": 30,
     "metadata": {},
     "output_type": "execute_result"
    }
   ],
   "source": [
    "df_follows = pd.read_csv(\"data/data/follows.csv\")\n",
    "df_follows.head()"
   ]
  },
  {
   "cell_type": "code",
   "execution_count": 31,
   "id": "8643dfdd-b146-4928-be0e-5d3ab53fce12",
   "metadata": {},
   "outputs": [
    {
     "data": {
      "text/plain": [
       "follower               0\n",
       "followee               0\n",
       "created time           0\n",
       "is follower active     0\n",
       "followee Acc status    0\n",
       "dtype: int64"
      ]
     },
     "execution_count": 31,
     "metadata": {},
     "output_type": "execute_result"
    }
   ],
   "source": [
    "df_follows.isnull().sum()"
   ]
  },
  {
   "cell_type": "code",
   "execution_count": 32,
   "id": "29ee6ec8-eeed-4e99-a225-dec0118d2162",
   "metadata": {},
   "outputs": [
    {
     "data": {
      "text/html": [
       "<div>\n",
       "<style scoped>\n",
       "    .dataframe tbody tr th:only-of-type {\n",
       "        vertical-align: middle;\n",
       "    }\n",
       "\n",
       "    .dataframe tbody tr th {\n",
       "        vertical-align: top;\n",
       "    }\n",
       "\n",
       "    .dataframe thead th {\n",
       "        text-align: right;\n",
       "    }\n",
       "</style>\n",
       "<table border=\"1\" class=\"dataframe\">\n",
       "  <thead>\n",
       "    <tr style=\"text-align: right;\">\n",
       "      <th></th>\n",
       "      <th>user</th>\n",
       "      <th>photo</th>\n",
       "      <th>created time</th>\n",
       "      <th>following or not</th>\n",
       "      <th>like type</th>\n",
       "    </tr>\n",
       "  </thead>\n",
       "  <tbody>\n",
       "    <tr>\n",
       "      <th>0</th>\n",
       "      <td>2</td>\n",
       "      <td>1</td>\n",
       "      <td>13-04-2023 08:04</td>\n",
       "      <td>yes</td>\n",
       "      <td>heart emoji</td>\n",
       "    </tr>\n",
       "    <tr>\n",
       "      <th>1</th>\n",
       "      <td>2</td>\n",
       "      <td>4</td>\n",
       "      <td>13-04-2023 08:04</td>\n",
       "      <td>no</td>\n",
       "      <td>thumbs up</td>\n",
       "    </tr>\n",
       "    <tr>\n",
       "      <th>2</th>\n",
       "      <td>2</td>\n",
       "      <td>8</td>\n",
       "      <td>13-04-2023 08:04</td>\n",
       "      <td>yes</td>\n",
       "      <td>laughing</td>\n",
       "    </tr>\n",
       "    <tr>\n",
       "      <th>3</th>\n",
       "      <td>2</td>\n",
       "      <td>9</td>\n",
       "      <td>13-04-2023 08:04</td>\n",
       "      <td>no</td>\n",
       "      <td>fire</td>\n",
       "    </tr>\n",
       "    <tr>\n",
       "      <th>4</th>\n",
       "      <td>2</td>\n",
       "      <td>10</td>\n",
       "      <td>13-04-2023 08:04</td>\n",
       "      <td>yes</td>\n",
       "      <td>clap</td>\n",
       "    </tr>\n",
       "  </tbody>\n",
       "</table>\n",
       "</div>"
      ],
      "text/plain": [
       "   user   photo      created time following or not    like type\n",
       "0      2      1  13-04-2023 08:04              yes  heart emoji\n",
       "1      2      4  13-04-2023 08:04               no    thumbs up\n",
       "2      2      8  13-04-2023 08:04              yes     laughing\n",
       "3      2      9  13-04-2023 08:04               no         fire\n",
       "4      2     10  13-04-2023 08:04              yes         clap"
      ]
     },
     "execution_count": 32,
     "metadata": {},
     "output_type": "execute_result"
    }
   ],
   "source": [
    "df_likes = pd.read_csv(\"data/data/likes.csv\")\n",
    "df_likes.head()"
   ]
  },
  {
   "cell_type": "code",
   "execution_count": 42,
   "id": "c19ec569-d801-4f3f-815f-c5dd5737516e",
   "metadata": {},
   "outputs": [
    {
     "data": {
      "text/plain": [
       "user                0\n",
       "photo               0\n",
       "created time        0\n",
       "following or not    0\n",
       "like type           0\n",
       "dtype: int64"
      ]
     },
     "execution_count": 42,
     "metadata": {},
     "output_type": "execute_result"
    }
   ],
   "source": [
    "df_likes.isnull().sum()"
   ]
  },
  {
   "cell_type": "code",
   "execution_count": 43,
   "id": "72a8df85-5312-4c0a-ba66-56805aec742e",
   "metadata": {},
   "outputs": [
    {
     "data": {
      "text/plain": [
       "0"
      ]
     },
     "execution_count": 43,
     "metadata": {},
     "output_type": "execute_result"
    }
   ],
   "source": [
    "df_likes.duplicated().sum()"
   ]
  },
  {
   "cell_type": "code",
   "execution_count": 35,
   "id": "036bb1b1-d467-4938-af57-1c91c3bd4a3c",
   "metadata": {},
   "outputs": [
    {
     "data": {
      "text/html": [
       "<div>\n",
       "<style scoped>\n",
       "    .dataframe tbody tr th:only-of-type {\n",
       "        vertical-align: middle;\n",
       "    }\n",
       "\n",
       "    .dataframe tbody tr th {\n",
       "        vertical-align: top;\n",
       "    }\n",
       "\n",
       "    .dataframe thead th {\n",
       "        text-align: right;\n",
       "    }\n",
       "</style>\n",
       "<table border=\"1\" class=\"dataframe\">\n",
       "  <thead>\n",
       "    <tr style=\"text-align: right;\">\n",
       "      <th></th>\n",
       "      <th>id</th>\n",
       "      <th>name</th>\n",
       "      <th>created time</th>\n",
       "      <th>private/public</th>\n",
       "      <th>post count</th>\n",
       "      <th>Verified status</th>\n",
       "    </tr>\n",
       "  </thead>\n",
       "  <tbody>\n",
       "    <tr>\n",
       "      <th>0</th>\n",
       "      <td>1</td>\n",
       "      <td>Kenton_Kirlin</td>\n",
       "      <td>16-02-2017 18:22</td>\n",
       "      <td>yes</td>\n",
       "      <td>11</td>\n",
       "      <td>no</td>\n",
       "    </tr>\n",
       "    <tr>\n",
       "      <th>1</th>\n",
       "      <td>2</td>\n",
       "      <td>Andre_Purdy85</td>\n",
       "      <td>02-04-2017 17:11</td>\n",
       "      <td>no</td>\n",
       "      <td>7</td>\n",
       "      <td>no</td>\n",
       "    </tr>\n",
       "    <tr>\n",
       "      <th>2</th>\n",
       "      <td>3</td>\n",
       "      <td>Harley_Lind18</td>\n",
       "      <td>21-02-2017 11:12</td>\n",
       "      <td>no</td>\n",
       "      <td>2</td>\n",
       "      <td>no</td>\n",
       "    </tr>\n",
       "    <tr>\n",
       "      <th>3</th>\n",
       "      <td>4</td>\n",
       "      <td>Arely_Bogan63</td>\n",
       "      <td>13-08-2016 01:28</td>\n",
       "      <td>yes</td>\n",
       "      <td>1</td>\n",
       "      <td>no</td>\n",
       "    </tr>\n",
       "    <tr>\n",
       "      <th>4</th>\n",
       "      <td>5</td>\n",
       "      <td>Aniya_Hackett</td>\n",
       "      <td>07-12-2016 01:04</td>\n",
       "      <td>yes</td>\n",
       "      <td>3</td>\n",
       "      <td>no</td>\n",
       "    </tr>\n",
       "  </tbody>\n",
       "</table>\n",
       "</div>"
      ],
      "text/plain": [
       "   id           name      created time private/public  post count  \\\n",
       "0   1  Kenton_Kirlin  16-02-2017 18:22            yes          11   \n",
       "1   2  Andre_Purdy85  02-04-2017 17:11             no           7   \n",
       "2   3  Harley_Lind18  21-02-2017 11:12             no           2   \n",
       "3   4  Arely_Bogan63  13-08-2016 01:28            yes           1   \n",
       "4   5  Aniya_Hackett  07-12-2016 01:04            yes           3   \n",
       "\n",
       "  Verified status  \n",
       "0              no  \n",
       "1              no  \n",
       "2              no  \n",
       "3              no  \n",
       "4              no  "
      ]
     },
     "execution_count": 35,
     "metadata": {},
     "output_type": "execute_result"
    }
   ],
   "source": [
    "df_users = pd.read_csv(\"data/data/users.csv\")\n",
    "df_users.head()"
   ]
  },
  {
   "cell_type": "code",
   "execution_count": 47,
   "id": "7e431e59-d5d3-4fb6-ab13-873d94f33311",
   "metadata": {},
   "outputs": [
    {
     "data": {
      "text/plain": [
       "array(['no', 'yes'], dtype=object)"
      ]
     },
     "execution_count": 47,
     "metadata": {},
     "output_type": "execute_result"
    }
   ],
   "source": [
    "# df_users.isnull().sum()\n",
    "# df_users.duplicated().sum()\n",
    "df_users['Verified status'].unique()"
   ]
  },
  {
   "cell_type": "code",
   "execution_count": 37,
   "id": "6e2317e3-9a69-4d06-85cf-0598c28cfd3c",
   "metadata": {},
   "outputs": [
    {
     "data": {
      "text/html": [
       "<div>\n",
       "<style scoped>\n",
       "    .dataframe tbody tr th:only-of-type {\n",
       "        vertical-align: middle;\n",
       "    }\n",
       "\n",
       "    .dataframe tbody tr th {\n",
       "        vertical-align: top;\n",
       "    }\n",
       "\n",
       "    .dataframe thead th {\n",
       "        text-align: right;\n",
       "    }\n",
       "</style>\n",
       "<table border=\"1\" class=\"dataframe\">\n",
       "  <thead>\n",
       "    <tr style=\"text-align: right;\">\n",
       "      <th></th>\n",
       "      <th>id</th>\n",
       "      <th>tag text</th>\n",
       "      <th>created time</th>\n",
       "      <th>location</th>\n",
       "    </tr>\n",
       "  </thead>\n",
       "  <tbody>\n",
       "    <tr>\n",
       "      <th>0</th>\n",
       "      <td>1</td>\n",
       "      <td>sunset</td>\n",
       "      <td>13-04-2023 08:04</td>\n",
       "      <td>florida</td>\n",
       "    </tr>\n",
       "    <tr>\n",
       "      <th>1</th>\n",
       "      <td>2</td>\n",
       "      <td>photography</td>\n",
       "      <td>13-04-2023 08:04</td>\n",
       "      <td>washington DC</td>\n",
       "    </tr>\n",
       "    <tr>\n",
       "      <th>2</th>\n",
       "      <td>3</td>\n",
       "      <td>sunrise</td>\n",
       "      <td>13-04-2023 08:04</td>\n",
       "      <td>new york</td>\n",
       "    </tr>\n",
       "    <tr>\n",
       "      <th>3</th>\n",
       "      <td>4</td>\n",
       "      <td>landscape</td>\n",
       "      <td>13-04-2023 08:04</td>\n",
       "      <td>london</td>\n",
       "    </tr>\n",
       "    <tr>\n",
       "      <th>4</th>\n",
       "      <td>5</td>\n",
       "      <td>food</td>\n",
       "      <td>13-04-2023 08:04</td>\n",
       "      <td>brazil</td>\n",
       "    </tr>\n",
       "  </tbody>\n",
       "</table>\n",
       "</div>"
      ],
      "text/plain": [
       "   id     tag text      created time       location\n",
       "0   1       sunset  13-04-2023 08:04        florida\n",
       "1   2  photography  13-04-2023 08:04  washington DC\n",
       "2   3      sunrise  13-04-2023 08:04       new york\n",
       "3   4    landscape  13-04-2023 08:04         london\n",
       "4   5         food  13-04-2023 08:04         brazil"
      ]
     },
     "execution_count": 37,
     "metadata": {},
     "output_type": "execute_result"
    }
   ],
   "source": [
    "df_tags = pd.read_csv(\"data/data/tags.csv\")\n",
    "df_tags.head()"
   ]
  },
  {
   "cell_type": "code",
   "execution_count": 38,
   "id": "85138be5-6bcd-4f68-8216-ac830ac18dfa",
   "metadata": {},
   "outputs": [
    {
     "data": {
      "text/plain": [
       "follower               0\n",
       "followee               0\n",
       "created time           0\n",
       "is follower active     0\n",
       "followee Acc status    0\n",
       "dtype: int64"
      ]
     },
     "execution_count": 38,
     "metadata": {},
     "output_type": "execute_result"
    }
   ],
   "source": [
    "df_follows.isnull().sum()\n",
    "# df_likes.duplicated().sum()"
   ]
  },
  {
   "cell_type": "code",
   "execution_count": 26,
   "id": "e2319ebf-b2c9-4319-bf0a-c49c1e0f6335",
   "metadata": {},
   "outputs": [
    {
     "data": {
      "text/html": [
       "<div>\n",
       "<style scoped>\n",
       "    .dataframe tbody tr th:only-of-type {\n",
       "        vertical-align: middle;\n",
       "    }\n",
       "\n",
       "    .dataframe tbody tr th {\n",
       "        vertical-align: top;\n",
       "    }\n",
       "\n",
       "    .dataframe thead th {\n",
       "        text-align: right;\n",
       "    }\n",
       "</style>\n",
       "<table border=\"1\" class=\"dataframe\">\n",
       "  <thead>\n",
       "    <tr style=\"text-align: right;\">\n",
       "      <th></th>\n",
       "      <th>id</th>\n",
       "      <th>image link</th>\n",
       "      <th>user ID</th>\n",
       "      <th>created dat</th>\n",
       "      <th>Insta filter used</th>\n",
       "      <th>photo type</th>\n",
       "    </tr>\n",
       "  </thead>\n",
       "  <tbody>\n",
       "    <tr>\n",
       "      <th>0</th>\n",
       "      <td>1</td>\n",
       "      <td>http://elijah.biz</td>\n",
       "      <td>1</td>\n",
       "      <td>13-04-2023 08:04</td>\n",
       "      <td>yes</td>\n",
       "      <td>photo</td>\n",
       "    </tr>\n",
       "    <tr>\n",
       "      <th>1</th>\n",
       "      <td>2</td>\n",
       "      <td>https://shanon.org</td>\n",
       "      <td>1</td>\n",
       "      <td>13-04-2023 08:04</td>\n",
       "      <td>no</td>\n",
       "      <td>photo</td>\n",
       "    </tr>\n",
       "    <tr>\n",
       "      <th>2</th>\n",
       "      <td>3</td>\n",
       "      <td>http://vicky.biz</td>\n",
       "      <td>1</td>\n",
       "      <td>13-04-2023 08:04</td>\n",
       "      <td>no</td>\n",
       "      <td>photo</td>\n",
       "    </tr>\n",
       "    <tr>\n",
       "      <th>3</th>\n",
       "      <td>4</td>\n",
       "      <td>http://oleta.net</td>\n",
       "      <td>1</td>\n",
       "      <td>13-04-2023 08:04</td>\n",
       "      <td>no</td>\n",
       "      <td>photo</td>\n",
       "    </tr>\n",
       "    <tr>\n",
       "      <th>4</th>\n",
       "      <td>5</td>\n",
       "      <td>https://jennings.biz</td>\n",
       "      <td>1</td>\n",
       "      <td>13-04-2023 08:04</td>\n",
       "      <td>yes</td>\n",
       "      <td>photo</td>\n",
       "    </tr>\n",
       "  </tbody>\n",
       "</table>\n",
       "</div>"
      ],
      "text/plain": [
       "   id            image link  user ID       created dat Insta filter used  \\\n",
       "0   1     http://elijah.biz        1  13-04-2023 08:04               yes   \n",
       "1   2    https://shanon.org        1  13-04-2023 08:04                no   \n",
       "2   3      http://vicky.biz        1  13-04-2023 08:04                no   \n",
       "3   4      http://oleta.net        1  13-04-2023 08:04                no   \n",
       "4   5  https://jennings.biz        1  13-04-2023 08:04               yes   \n",
       "\n",
       "  photo type  \n",
       "0      photo  \n",
       "1      photo  \n",
       "2      photo  \n",
       "3      photo  \n",
       "4      photo  "
      ]
     },
     "execution_count": 26,
     "metadata": {},
     "output_type": "execute_result"
    }
   ],
   "source": [
    "df_photos = pd.read_csv(\"data/data/photos.csv\")\n",
    "df_photos.head()"
   ]
  },
  {
   "cell_type": "code",
   "execution_count": 39,
   "id": "be421856-2234-4a6f-9631-632360682475",
   "metadata": {},
   "outputs": [
    {
     "data": {
      "text/plain": [
       "0"
      ]
     },
     "execution_count": 39,
     "metadata": {},
     "output_type": "execute_result"
    }
   ],
   "source": [
    "# df_follows.isnull().sum()\n",
    "df_likes.duplicated().sum()"
   ]
  },
  {
   "cell_type": "code",
   "execution_count": 27,
   "id": "9fb0d324-f822-4565-9a72-7c3f6cf1d6ad",
   "metadata": {},
   "outputs": [
    {
     "data": {
      "text/html": [
       "<div>\n",
       "<style scoped>\n",
       "    .dataframe tbody tr th:only-of-type {\n",
       "        vertical-align: middle;\n",
       "    }\n",
       "\n",
       "    .dataframe tbody tr th {\n",
       "        vertical-align: top;\n",
       "    }\n",
       "\n",
       "    .dataframe thead th {\n",
       "        text-align: right;\n",
       "    }\n",
       "</style>\n",
       "<table border=\"1\" class=\"dataframe\">\n",
       "  <thead>\n",
       "    <tr style=\"text-align: right;\">\n",
       "      <th></th>\n",
       "      <th>photo</th>\n",
       "      <th>tag ID</th>\n",
       "      <th>user id</th>\n",
       "    </tr>\n",
       "  </thead>\n",
       "  <tbody>\n",
       "    <tr>\n",
       "      <th>0</th>\n",
       "      <td>1</td>\n",
       "      <td>13</td>\n",
       "      <td>1</td>\n",
       "    </tr>\n",
       "    <tr>\n",
       "      <th>1</th>\n",
       "      <td>1</td>\n",
       "      <td>17</td>\n",
       "      <td>1</td>\n",
       "    </tr>\n",
       "    <tr>\n",
       "      <th>2</th>\n",
       "      <td>1</td>\n",
       "      <td>18</td>\n",
       "      <td>2</td>\n",
       "    </tr>\n",
       "    <tr>\n",
       "      <th>3</th>\n",
       "      <td>1</td>\n",
       "      <td>19</td>\n",
       "      <td>2</td>\n",
       "    </tr>\n",
       "    <tr>\n",
       "      <th>4</th>\n",
       "      <td>1</td>\n",
       "      <td>21</td>\n",
       "      <td>3</td>\n",
       "    </tr>\n",
       "  </tbody>\n",
       "</table>\n",
       "</div>"
      ],
      "text/plain": [
       "   photo  tag ID  user id\n",
       "0      1      13        1\n",
       "1      1      17        1\n",
       "2      1      18        2\n",
       "3      1      19        2\n",
       "4      1      21        3"
      ]
     },
     "execution_count": 27,
     "metadata": {},
     "output_type": "execute_result"
    }
   ],
   "source": [
    "df_phototags = pd.read_csv(\"data/data/photo_tags.csv\")\n",
    "df_phototags.head()"
   ]
  },
  {
   "cell_type": "code",
   "execution_count": 24,
   "id": "572d5421-5263-4b1c-a999-5bf42ea73429",
   "metadata": {},
   "outputs": [
    {
     "data": {
      "text/plain": [
       "follower               0\n",
       "followee               0\n",
       "created time           0\n",
       "is follower active     0\n",
       "followee Acc status    0\n",
       "dtype: int64"
      ]
     },
     "execution_count": 24,
     "metadata": {},
     "output_type": "execute_result"
    }
   ],
   "source": [
    "df_follows.isnull().sum()\n",
    "# df_likes.duplicated().sum()"
   ]
  },
  {
   "cell_type": "code",
   "execution_count": 48,
   "id": "24f6bbfc-ecc0-4837-b575-9ad4334f44be",
   "metadata": {},
   "outputs": [],
   "source": [
    "# Create new id columns for the likes and follows dataframes as they will be used as foreign keys in the interactions table\n",
    "df_likes['like_id'] = (df_likes.index + 1).astype(int)\n",
    "df_follows['follow_id'] = df_follows.index + 1"
   ]
  },
  {
   "cell_type": "code",
   "execution_count": 49,
   "id": "4099518c-de34-415f-804a-b89a2691a8e0",
   "metadata": {},
   "outputs": [],
   "source": [
    "# Rename the columns in each dataframe to match the database schema\n",
    "df_photos.rename(columns={'created_dat': 'created_date','id':'photo_id'}, inplace=True)\n",
    "df_users.rename(columns={'id': 'user_id','private/public':'private'}, inplace=True)\n",
    "df_tags.rename(columns={'id': 'tag_id'}, inplace=True)\n",
    "df_comments.rename(columns={'user__id': 'user_id','id':'comment_id','created_timestamp':'created_time'}, inplace=True)\n",
    "df_likes.rename(columns={'user_': 'user_id', 'photo': 'photo_id'}, inplace=True)\n",
    "df_follows.rename(columns={'follower': 'follower_user_id', 'followee_': 'user_id'}, inplace=True)"
   ]
  },
  {
   "cell_type": "code",
   "execution_count": 55,
   "id": "c3852648-198d-43d0-9c2f-99d96aff3c7b",
   "metadata": {},
   "outputs": [],
   "source": [
    "# Combine Likes, Comments, and Follows DataFrames into a single Interactions DataFrame\n",
    "df_interactions = pd.concat([df_likes, df_comments, df_follows], ignore_index=True)\n",
    "\n",
    "# Create interaction_id column\n",
    "df_interactions['interaction_id'] = df_interactions.index + 1\n",
    "\n",
    "# Add a new column to indicate the type of interaction ('like', 'comment', or 'follow')\n",
    "df_interactions['interaction_type'] = pd.Series(['like'] * len(df_likes) + ['comment'] * len(df_comments) + ['follow'] * len(df_follows))\n",
    "\n",
    "# Add an interaction date column (you can use 'created_time' column or any other appropriate date column)\n",
    "# df_interactions['interaction_date'] = df_interactions['created_time']\n",
    "\n",
    "# List of columns to keep\n",
    "# keep_cols = ['interaction_id', 'interaction_type', 'interaction_date', 'user_id', 'photo_id', 'comment_id', 'like_id','follow_id']\n",
    "\n",
    "# Remove columns that are not in the keep_cols list\n",
    "# df_interactions = df_interactions[[col for col in df_interactions.columns if col in keep_cols]]\n",
    "\n",
    "# Make sure the id columns are integers even though they contain NaN values\n",
    "# id_cols = ['user_id', 'photo_id', 'comment_id', 'like_id', 'follow_id']\n",
    "# for col in id_cols:\n",
    "    # df_interactions[col] = df_interactions[col].astype('Int64')"
   ]
  },
  {
   "cell_type": "code",
   "execution_count": null,
   "id": "4a8134e1-92d8-4780-98d2-dfddf610aefb",
   "metadata": {},
   "outputs": [],
   "source": []
  },
  {
   "cell_type": "code",
   "execution_count": null,
   "id": "2e764b36-855e-4240-bfab-b0eaae220741",
   "metadata": {},
   "outputs": [],
   "source": []
  },
  {
   "cell_type": "code",
   "execution_count": null,
   "id": "a9e43cf3-3faa-4f25-9b15-a336b55e25b7",
   "metadata": {},
   "outputs": [],
   "source": []
  }
 ],
 "metadata": {
  "kernelspec": {
   "display_name": "Python 3 (ipykernel)",
   "language": "python",
   "name": "python3"
  },
  "language_info": {
   "codemirror_mode": {
    "name": "ipython",
    "version": 3
   },
   "file_extension": ".py",
   "mimetype": "text/x-python",
   "name": "python",
   "nbconvert_exporter": "python",
   "pygments_lexer": "ipython3",
   "version": "3.12.4"
  }
 },
 "nbformat": 4,
 "nbformat_minor": 5
}
